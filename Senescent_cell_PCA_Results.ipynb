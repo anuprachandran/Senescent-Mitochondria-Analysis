{
  "nbformat": 4,
  "nbformat_minor": 0,
  "metadata": {
    "colab": {
      "name": "Senescent cell PCA Results.ipynb",
      "provenance": [],
      "collapsed_sections": []
    },
    "kernelspec": {
      "name": "python3",
      "display_name": "Python 3"
    }
  },
  "cells": [
    {
      "cell_type": "code",
      "metadata": {
        "id": "_JV8PEDiwvPc"
      },
      "source": [
        "import pandas as pd"
      ],
      "execution_count": null,
      "outputs": []
    },
    {
      "cell_type": "code",
      "metadata": {
        "id": "AoCt1Iwx1nX6",
        "outputId": "65187ca0-7781-4331-b31e-4631a3ecc302",
        "colab": {
          "resources": {
            "http://localhost:8080/nbextensions/google.colab/files.js": {
              "data": "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",
              "ok": true,
              "headers": [
                [
                  "content-type",
                  "application/javascript"
                ]
              ],
              "status": 200,
              "status_text": ""
            }
          },
          "base_uri": "https://localhost:8080/",
          "height": 106
        }
      },
      "source": [
        "from google.colab import files\n",
        "uploaded = files.upload()"
      ],
      "execution_count": null,
      "outputs": [
        {
          "output_type": "display_data",
          "data": {
            "text/html": [
              "\n",
              "     <input type=\"file\" id=\"files-f316ce37-5170-4bd2-a553-85f14295e764\" name=\"files[]\" multiple disabled\n",
              "        style=\"border:none\" />\n",
              "     <output id=\"result-f316ce37-5170-4bd2-a553-85f14295e764\">\n",
              "      Upload widget is only available when the cell has been executed in the\n",
              "      current browser session. Please rerun this cell to enable.\n",
              "      </output>\n",
              "      <script src=\"/nbextensions/google.colab/files.js\"></script> "
            ],
            "text/plain": [
              "<IPython.core.display.HTML object>"
            ]
          },
          "metadata": {
            "tags": []
          }
        },
        {
          "output_type": "stream",
          "text": [
            "Saving All files compiled and normalized.csv to All files compiled and normalized (6).csv\n",
            "Saving Labels.csv to Labels (7).csv\n"
          ],
          "name": "stdout"
        }
      ]
    },
    {
      "cell_type": "code",
      "metadata": {
        "id": "uZ-Az5bnyOjz",
        "outputId": "60e9e038-c719-435e-deea-6935134b65c5",
        "colab": {
          "base_uri": "https://localhost:8080/",
          "height": 255
        }
      },
      "source": [
        "import io\n",
        "data1 = pd.read_csv(io.BytesIO(uploaded['All files compiled and normalized.csv']))\n",
        "# Dataset is now stored in a Pandas Dataframe\n",
        "\n",
        "print(data1)"
      ],
      "execution_count": null,
      "outputs": [
        {
          "output_type": "stream",
          "text": [
            "      Count  Total Area (per cell)  ...  IntDen (per cell)  Median\n",
            "0      1.00             298.367750  ...       19020.951250     255\n",
            "1     94.50            1069.503000  ...         721.490000     255\n",
            "2      1.00            1192.031000  ...      303967.969000     255\n",
            "3    294.00            1665.171000  ...        1444.281000     255\n",
            "4      1.00             140.363000  ...        5113.224429     255\n",
            "..      ...                    ...  ...                ...     ...\n",
            "407   62.39             203.573581  ...          13.420694     255\n",
            "408    1.00             244.733000  ...         832.093267     255\n",
            "409   52.43             195.861533  ...          12.702107     255\n",
            "410    1.00             179.977000  ...         580.937987     255\n",
            "411   33.50             193.216202  ...          18.613570     255\n",
            "\n",
            "[412 rows x 19 columns]\n"
          ],
          "name": "stdout"
        }
      ]
    },
    {
      "cell_type": "code",
      "metadata": {
        "id": "K-DddUZAhxeL",
        "outputId": "921673ac-8da2-4d95-a687-f56a04f29dc3",
        "colab": {
          "base_uri": "https://localhost:8080/",
          "height": 255
        }
      },
      "source": [
        "import io\n",
        "labels = pd.read_csv(io.BytesIO(uploaded['Labels.csv']))\n",
        "# Dataset is now stored in a Pandas Dataframe\n",
        "\n",
        "print(labels)"
      ],
      "execution_count": null,
      "outputs": [
        {
          "output_type": "stream",
          "text": [
            "         Label Stain Type Combined Labels\n",
            "0    Senescent       DNA    SenescentDNA \n",
            "1    Senescent       Mito   SenescentMito\n",
            "2    Senescent       DNA    SenescentDNA \n",
            "3    Senescent       Mito   SenescentMito\n",
            "4    Senescent       DNA    SenescentDNA \n",
            "..         ...        ...             ...\n",
            "407     Normal       Mito      NormalMito\n",
            "408     Normal       DNA       NormalDNA \n",
            "409     Normal       Mito      NormalMito\n",
            "410     Normal       DNA       NormalDNA \n",
            "411     Normal       Mito      NormalMito\n",
            "\n",
            "[412 rows x 3 columns]\n"
          ],
          "name": "stdout"
        }
      ]
    },
    {
      "cell_type": "code",
      "metadata": {
        "id": "28WBs9h94ybz",
        "outputId": "2f1f3130-deac-4c22-ea25-39e5e7637288",
        "colab": {
          "base_uri": "https://localhost:8080/",
          "height": 258
        }
      },
      "source": [
        "data1.head()"
      ],
      "execution_count": null,
      "outputs": [
        {
          "output_type": "execute_result",
          "data": {
            "text/html": [
              "<div>\n",
              "<style scoped>\n",
              "    .dataframe tbody tr th:only-of-type {\n",
              "        vertical-align: middle;\n",
              "    }\n",
              "\n",
              "    .dataframe tbody tr th {\n",
              "        vertical-align: top;\n",
              "    }\n",
              "\n",
              "    .dataframe thead th {\n",
              "        text-align: right;\n",
              "    }\n",
              "</style>\n",
              "<table border=\"1\" class=\"dataframe\">\n",
              "  <thead>\n",
              "    <tr style=\"text-align: right;\">\n",
              "      <th></th>\n",
              "      <th>Count</th>\n",
              "      <th>Total Area (per cell)</th>\n",
              "      <th>Average Size</th>\n",
              "      <th>%Area</th>\n",
              "      <th>Mean</th>\n",
              "      <th>Mode</th>\n",
              "      <th>Perim. (per cell)</th>\n",
              "      <th>Major</th>\n",
              "      <th>Minor</th>\n",
              "      <th>Angle</th>\n",
              "      <th>Circ.</th>\n",
              "      <th>Solidity</th>\n",
              "      <th>Feret</th>\n",
              "      <th>FeretX</th>\n",
              "      <th>FeretY</th>\n",
              "      <th>FeretAngle</th>\n",
              "      <th>MinFeret</th>\n",
              "      <th>IntDen (per cell)</th>\n",
              "      <th>Median</th>\n",
              "    </tr>\n",
              "  </thead>\n",
              "  <tbody>\n",
              "    <tr>\n",
              "      <th>0</th>\n",
              "      <td>1.0</td>\n",
              "      <td>298.36775</td>\n",
              "      <td>298.368</td>\n",
              "      <td>0.828</td>\n",
              "      <td>255</td>\n",
              "      <td>255</td>\n",
              "      <td>22.683500</td>\n",
              "      <td>27.805</td>\n",
              "      <td>13.352</td>\n",
              "      <td>118.712</td>\n",
              "      <td>0.469</td>\n",
              "      <td>0.854</td>\n",
              "      <td>29.930</td>\n",
              "      <td>154.671</td>\n",
              "      <td>117.647</td>\n",
              "      <td>121.588</td>\n",
              "      <td>15.162</td>\n",
              "      <td>19020.951250</td>\n",
              "      <td>255</td>\n",
              "    </tr>\n",
              "    <tr>\n",
              "      <th>1</th>\n",
              "      <td>94.5</td>\n",
              "      <td>1069.50300</td>\n",
              "      <td>11.317</td>\n",
              "      <td>2.967</td>\n",
              "      <td>255</td>\n",
              "      <td>255</td>\n",
              "      <td>2.071750</td>\n",
              "      <td>2.224</td>\n",
              "      <td>0.816</td>\n",
              "      <td>63.652</td>\n",
              "      <td>0.789</td>\n",
              "      <td>0.820</td>\n",
              "      <td>2.756</td>\n",
              "      <td>172.722</td>\n",
              "      <td>171.148</td>\n",
              "      <td>113.108</td>\n",
              "      <td>1.102</td>\n",
              "      <td>721.490000</td>\n",
              "      <td>255</td>\n",
              "    </tr>\n",
              "    <tr>\n",
              "      <th>2</th>\n",
              "      <td>1.0</td>\n",
              "      <td>1192.03100</td>\n",
              "      <td>1192.031</td>\n",
              "      <td>0.827</td>\n",
              "      <td>255</td>\n",
              "      <td>255</td>\n",
              "      <td>241.116000</td>\n",
              "      <td>63.756</td>\n",
              "      <td>23.805</td>\n",
              "      <td>139.119</td>\n",
              "      <td>0.258</td>\n",
              "      <td>0.711</td>\n",
              "      <td>68.122</td>\n",
              "      <td>253.552</td>\n",
              "      <td>227.017</td>\n",
              "      <td>123.320</td>\n",
              "      <td>29.994</td>\n",
              "      <td>303967.969000</td>\n",
              "      <td>255</td>\n",
              "    </tr>\n",
              "    <tr>\n",
              "      <th>3</th>\n",
              "      <td>294.0</td>\n",
              "      <td>1665.17100</td>\n",
              "      <td>5.664</td>\n",
              "      <td>1.155</td>\n",
              "      <td>255</td>\n",
              "      <td>255</td>\n",
              "      <td>2.785000</td>\n",
              "      <td>0.774</td>\n",
              "      <td>0.448</td>\n",
              "      <td>39.759</td>\n",
              "      <td>0.885</td>\n",
              "      <td>0.886</td>\n",
              "      <td>0.919</td>\n",
              "      <td>189.728</td>\n",
              "      <td>179.839</td>\n",
              "      <td>121.198</td>\n",
              "      <td>0.506</td>\n",
              "      <td>1444.281000</td>\n",
              "      <td>255</td>\n",
              "    </tr>\n",
              "    <tr>\n",
              "      <th>4</th>\n",
              "      <td>1.0</td>\n",
              "      <td>140.36300</td>\n",
              "      <td>140.363</td>\n",
              "      <td>0.681</td>\n",
              "      <td>255</td>\n",
              "      <td>255</td>\n",
              "      <td>5.585143</td>\n",
              "      <td>12.157</td>\n",
              "      <td>8.794</td>\n",
              "      <td>60.659</td>\n",
              "      <td>0.822</td>\n",
              "      <td>0.947</td>\n",
              "      <td>13.362</td>\n",
              "      <td>116.052</td>\n",
              "      <td>152.468</td>\n",
              "      <td>93.044</td>\n",
              "      <td>9.088</td>\n",
              "      <td>5113.224429</td>\n",
              "      <td>255</td>\n",
              "    </tr>\n",
              "  </tbody>\n",
              "</table>\n",
              "</div>"
            ],
            "text/plain": [
              "   Count  Total Area (per cell)  ...  IntDen (per cell)  Median\n",
              "0    1.0              298.36775  ...       19020.951250     255\n",
              "1   94.5             1069.50300  ...         721.490000     255\n",
              "2    1.0             1192.03100  ...      303967.969000     255\n",
              "3  294.0             1665.17100  ...        1444.281000     255\n",
              "4    1.0              140.36300  ...        5113.224429     255\n",
              "\n",
              "[5 rows x 19 columns]"
            ]
          },
          "metadata": {
            "tags": []
          },
          "execution_count": 36
        }
      ]
    },
    {
      "cell_type": "code",
      "metadata": {
        "id": "RntzTycRh9q5",
        "outputId": "3c935d5c-77b1-4c13-a0c7-098be7de4e84",
        "colab": {
          "base_uri": "https://localhost:8080/",
          "height": 258
        }
      },
      "source": [
        "data2 = data1.join(labels)\n",
        "\n",
        "data2.head()"
      ],
      "execution_count": null,
      "outputs": [
        {
          "output_type": "execute_result",
          "data": {
            "text/html": [
              "<div>\n",
              "<style scoped>\n",
              "    .dataframe tbody tr th:only-of-type {\n",
              "        vertical-align: middle;\n",
              "    }\n",
              "\n",
              "    .dataframe tbody tr th {\n",
              "        vertical-align: top;\n",
              "    }\n",
              "\n",
              "    .dataframe thead th {\n",
              "        text-align: right;\n",
              "    }\n",
              "</style>\n",
              "<table border=\"1\" class=\"dataframe\">\n",
              "  <thead>\n",
              "    <tr style=\"text-align: right;\">\n",
              "      <th></th>\n",
              "      <th>Count</th>\n",
              "      <th>Total Area (per cell)</th>\n",
              "      <th>Average Size</th>\n",
              "      <th>%Area</th>\n",
              "      <th>Mean</th>\n",
              "      <th>Mode</th>\n",
              "      <th>Perim. (per cell)</th>\n",
              "      <th>Major</th>\n",
              "      <th>Minor</th>\n",
              "      <th>Angle</th>\n",
              "      <th>Circ.</th>\n",
              "      <th>Solidity</th>\n",
              "      <th>Feret</th>\n",
              "      <th>FeretX</th>\n",
              "      <th>FeretY</th>\n",
              "      <th>FeretAngle</th>\n",
              "      <th>MinFeret</th>\n",
              "      <th>IntDen (per cell)</th>\n",
              "      <th>Median</th>\n",
              "      <th>Label</th>\n",
              "      <th>Stain Type</th>\n",
              "      <th>Combined Labels</th>\n",
              "    </tr>\n",
              "  </thead>\n",
              "  <tbody>\n",
              "    <tr>\n",
              "      <th>0</th>\n",
              "      <td>1.0</td>\n",
              "      <td>298.36775</td>\n",
              "      <td>298.368</td>\n",
              "      <td>0.828</td>\n",
              "      <td>255</td>\n",
              "      <td>255</td>\n",
              "      <td>22.683500</td>\n",
              "      <td>27.805</td>\n",
              "      <td>13.352</td>\n",
              "      <td>118.712</td>\n",
              "      <td>0.469</td>\n",
              "      <td>0.854</td>\n",
              "      <td>29.930</td>\n",
              "      <td>154.671</td>\n",
              "      <td>117.647</td>\n",
              "      <td>121.588</td>\n",
              "      <td>15.162</td>\n",
              "      <td>19020.951250</td>\n",
              "      <td>255</td>\n",
              "      <td>Senescent</td>\n",
              "      <td>DNA</td>\n",
              "      <td>SenescentDNA</td>\n",
              "    </tr>\n",
              "    <tr>\n",
              "      <th>1</th>\n",
              "      <td>94.5</td>\n",
              "      <td>1069.50300</td>\n",
              "      <td>11.317</td>\n",
              "      <td>2.967</td>\n",
              "      <td>255</td>\n",
              "      <td>255</td>\n",
              "      <td>2.071750</td>\n",
              "      <td>2.224</td>\n",
              "      <td>0.816</td>\n",
              "      <td>63.652</td>\n",
              "      <td>0.789</td>\n",
              "      <td>0.820</td>\n",
              "      <td>2.756</td>\n",
              "      <td>172.722</td>\n",
              "      <td>171.148</td>\n",
              "      <td>113.108</td>\n",
              "      <td>1.102</td>\n",
              "      <td>721.490000</td>\n",
              "      <td>255</td>\n",
              "      <td>Senescent</td>\n",
              "      <td>Mito</td>\n",
              "      <td>SenescentMito</td>\n",
              "    </tr>\n",
              "    <tr>\n",
              "      <th>2</th>\n",
              "      <td>1.0</td>\n",
              "      <td>1192.03100</td>\n",
              "      <td>1192.031</td>\n",
              "      <td>0.827</td>\n",
              "      <td>255</td>\n",
              "      <td>255</td>\n",
              "      <td>241.116000</td>\n",
              "      <td>63.756</td>\n",
              "      <td>23.805</td>\n",
              "      <td>139.119</td>\n",
              "      <td>0.258</td>\n",
              "      <td>0.711</td>\n",
              "      <td>68.122</td>\n",
              "      <td>253.552</td>\n",
              "      <td>227.017</td>\n",
              "      <td>123.320</td>\n",
              "      <td>29.994</td>\n",
              "      <td>303967.969000</td>\n",
              "      <td>255</td>\n",
              "      <td>Senescent</td>\n",
              "      <td>DNA</td>\n",
              "      <td>SenescentDNA</td>\n",
              "    </tr>\n",
              "    <tr>\n",
              "      <th>3</th>\n",
              "      <td>294.0</td>\n",
              "      <td>1665.17100</td>\n",
              "      <td>5.664</td>\n",
              "      <td>1.155</td>\n",
              "      <td>255</td>\n",
              "      <td>255</td>\n",
              "      <td>2.785000</td>\n",
              "      <td>0.774</td>\n",
              "      <td>0.448</td>\n",
              "      <td>39.759</td>\n",
              "      <td>0.885</td>\n",
              "      <td>0.886</td>\n",
              "      <td>0.919</td>\n",
              "      <td>189.728</td>\n",
              "      <td>179.839</td>\n",
              "      <td>121.198</td>\n",
              "      <td>0.506</td>\n",
              "      <td>1444.281000</td>\n",
              "      <td>255</td>\n",
              "      <td>Senescent</td>\n",
              "      <td>Mito</td>\n",
              "      <td>SenescentMito</td>\n",
              "    </tr>\n",
              "    <tr>\n",
              "      <th>4</th>\n",
              "      <td>1.0</td>\n",
              "      <td>140.36300</td>\n",
              "      <td>140.363</td>\n",
              "      <td>0.681</td>\n",
              "      <td>255</td>\n",
              "      <td>255</td>\n",
              "      <td>5.585143</td>\n",
              "      <td>12.157</td>\n",
              "      <td>8.794</td>\n",
              "      <td>60.659</td>\n",
              "      <td>0.822</td>\n",
              "      <td>0.947</td>\n",
              "      <td>13.362</td>\n",
              "      <td>116.052</td>\n",
              "      <td>152.468</td>\n",
              "      <td>93.044</td>\n",
              "      <td>9.088</td>\n",
              "      <td>5113.224429</td>\n",
              "      <td>255</td>\n",
              "      <td>Senescent</td>\n",
              "      <td>DNA</td>\n",
              "      <td>SenescentDNA</td>\n",
              "    </tr>\n",
              "  </tbody>\n",
              "</table>\n",
              "</div>"
            ],
            "text/plain": [
              "   Count  Total Area (per cell)  ...  Stain Type  Combined Labels\n",
              "0    1.0              298.36775  ...        DNA     SenescentDNA \n",
              "1   94.5             1069.50300  ...        Mito    SenescentMito\n",
              "2    1.0             1192.03100  ...        DNA     SenescentDNA \n",
              "3  294.0             1665.17100  ...        Mito    SenescentMito\n",
              "4    1.0              140.36300  ...        DNA     SenescentDNA \n",
              "\n",
              "[5 rows x 22 columns]"
            ]
          },
          "metadata": {
            "tags": []
          },
          "execution_count": 37
        }
      ]
    },
    {
      "cell_type": "code",
      "metadata": {
        "id": "_6h6tlu52XZ1"
      },
      "source": [
        "from sklearn.preprocessing import StandardScaler\n",
        "\n",
        "x = StandardScaler().fit_transform(data1)\n",
        "\n",
        "\n",
        "from sklearn.decomposition import PCA\n",
        "pca_senescent = PCA(n_components=2)\n",
        "principalComponents_senescent = pca_senescent.fit_transform(x)"
      ],
      "execution_count": null,
      "outputs": []
    },
    {
      "cell_type": "code",
      "metadata": {
        "id": "Dyi9h3fVM7Jb",
        "outputId": "1f2cc6d7-518f-45f8-9266-3de9cadc7047",
        "colab": {
          "base_uri": "https://localhost:8080/",
          "height": 34
        }
      },
      "source": [
        "import numpy as np\n",
        "\n",
        "np.mean(x),np.std(x)"
      ],
      "execution_count": null,
      "outputs": [
        {
          "output_type": "execute_result",
          "data": {
            "text/plain": [
              "(1.270771372079893e-17, 0.917662935482247)"
            ]
          },
          "metadata": {
            "tags": []
          },
          "execution_count": 39
        }
      ]
    },
    {
      "cell_type": "code",
      "metadata": {
        "id": "tItIsk0yNG4c",
        "outputId": "92ff5769-78df-4cfc-d9fb-b917d7f222c6",
        "colab": {
          "base_uri": "https://localhost:8080/",
          "height": 224
        }
      },
      "source": [
        "feat_cols = ['feature'+str(i) for i in range(x.shape[1])]\n",
        "normalised_senescent = pd.DataFrame(x,columns=feat_cols)\n",
        "\n",
        "normalised_senescent.head()"
      ],
      "execution_count": null,
      "outputs": [
        {
          "output_type": "execute_result",
          "data": {
            "text/html": [
              "<div>\n",
              "<style scoped>\n",
              "    .dataframe tbody tr th:only-of-type {\n",
              "        vertical-align: middle;\n",
              "    }\n",
              "\n",
              "    .dataframe tbody tr th {\n",
              "        vertical-align: top;\n",
              "    }\n",
              "\n",
              "    .dataframe thead th {\n",
              "        text-align: right;\n",
              "    }\n",
              "</style>\n",
              "<table border=\"1\" class=\"dataframe\">\n",
              "  <thead>\n",
              "    <tr style=\"text-align: right;\">\n",
              "      <th></th>\n",
              "      <th>feature0</th>\n",
              "      <th>feature1</th>\n",
              "      <th>feature2</th>\n",
              "      <th>feature3</th>\n",
              "      <th>feature4</th>\n",
              "      <th>feature5</th>\n",
              "      <th>feature6</th>\n",
              "      <th>feature7</th>\n",
              "      <th>feature8</th>\n",
              "      <th>feature9</th>\n",
              "      <th>feature10</th>\n",
              "      <th>feature11</th>\n",
              "      <th>feature12</th>\n",
              "      <th>feature13</th>\n",
              "      <th>feature14</th>\n",
              "      <th>feature15</th>\n",
              "      <th>feature16</th>\n",
              "      <th>feature17</th>\n",
              "      <th>feature18</th>\n",
              "    </tr>\n",
              "  </thead>\n",
              "  <tbody>\n",
              "    <tr>\n",
              "      <th>0</th>\n",
              "      <td>-0.297773</td>\n",
              "      <td>-0.199788</td>\n",
              "      <td>0.927528</td>\n",
              "      <td>-1.025554</td>\n",
              "      <td>0.0</td>\n",
              "      <td>0.0</td>\n",
              "      <td>0.722988</td>\n",
              "      <td>1.485596</td>\n",
              "      <td>1.310106</td>\n",
              "      <td>2.076868</td>\n",
              "      <td>-1.717513</td>\n",
              "      <td>-0.346613</td>\n",
              "      <td>1.500931</td>\n",
              "      <td>-0.618980</td>\n",
              "      <td>-0.659201</td>\n",
              "      <td>0.908974</td>\n",
              "      <td>1.327803</td>\n",
              "      <td>0.473306</td>\n",
              "      <td>0.0</td>\n",
              "    </tr>\n",
              "    <tr>\n",
              "      <th>1</th>\n",
              "      <td>0.020621</td>\n",
              "      <td>0.935518</td>\n",
              "      <td>-0.575543</td>\n",
              "      <td>-0.701864</td>\n",
              "      <td>0.0</td>\n",
              "      <td>0.0</td>\n",
              "      <td>-0.218458</td>\n",
              "      <td>-0.686395</td>\n",
              "      <td>-0.749161</td>\n",
              "      <td>-0.128486</td>\n",
              "      <td>0.372700</td>\n",
              "      <td>-1.066566</td>\n",
              "      <td>-0.680873</td>\n",
              "      <td>-0.556439</td>\n",
              "      <td>-0.428912</td>\n",
              "      <td>0.417176</td>\n",
              "      <td>-0.736244</td>\n",
              "      <td>-0.235956</td>\n",
              "      <td>0.0</td>\n",
              "    </tr>\n",
              "    <tr>\n",
              "      <th>2</th>\n",
              "      <td>-0.297773</td>\n",
              "      <td>1.115910</td>\n",
              "      <td>5.606972</td>\n",
              "      <td>-1.025706</td>\n",
              "      <td>0.0</td>\n",
              "      <td>0.0</td>\n",
              "      <td>10.699946</td>\n",
              "      <td>4.538066</td>\n",
              "      <td>3.027202</td>\n",
              "      <td>2.894242</td>\n",
              "      <td>-3.095748</td>\n",
              "      <td>-3.374649</td>\n",
              "      <td>4.567373</td>\n",
              "      <td>-0.276387</td>\n",
              "      <td>-0.188430</td>\n",
              "      <td>1.009422</td>\n",
              "      <td>3.505182</td>\n",
              "      <td>11.517463</td>\n",
              "      <td>0.0</td>\n",
              "    </tr>\n",
              "    <tr>\n",
              "      <th>3</th>\n",
              "      <td>0.699976</td>\n",
              "      <td>1.812492</td>\n",
              "      <td>-0.605144</td>\n",
              "      <td>-0.976070</td>\n",
              "      <td>0.0</td>\n",
              "      <td>0.0</td>\n",
              "      <td>-0.185880</td>\n",
              "      <td>-0.809509</td>\n",
              "      <td>-0.809612</td>\n",
              "      <td>-1.085488</td>\n",
              "      <td>0.999764</td>\n",
              "      <td>0.330989</td>\n",
              "      <td>-0.828366</td>\n",
              "      <td>-0.497518</td>\n",
              "      <td>-0.391503</td>\n",
              "      <td>0.886356</td>\n",
              "      <td>-0.823739</td>\n",
              "      <td>-0.207942</td>\n",
              "      <td>0.0</td>\n",
              "    </tr>\n",
              "    <tr>\n",
              "      <th>4</th>\n",
              "      <td>-0.297773</td>\n",
              "      <td>-0.432410</td>\n",
              "      <td>0.100174</td>\n",
              "      <td>-1.047800</td>\n",
              "      <td>0.0</td>\n",
              "      <td>0.0</td>\n",
              "      <td>-0.057983</td>\n",
              "      <td>0.156980</td>\n",
              "      <td>0.561371</td>\n",
              "      <td>-0.248367</td>\n",
              "      <td>0.588253</td>\n",
              "      <td>1.622668</td>\n",
              "      <td>0.170684</td>\n",
              "      <td>-0.752783</td>\n",
              "      <td>-0.509318</td>\n",
              "      <td>-0.746438</td>\n",
              "      <td>0.436123</td>\n",
              "      <td>-0.065739</td>\n",
              "      <td>0.0</td>\n",
              "    </tr>\n",
              "  </tbody>\n",
              "</table>\n",
              "</div>"
            ],
            "text/plain": [
              "   feature0  feature1  feature2  ...  feature16  feature17  feature18\n",
              "0 -0.297773 -0.199788  0.927528  ...   1.327803   0.473306        0.0\n",
              "1  0.020621  0.935518 -0.575543  ...  -0.736244  -0.235956        0.0\n",
              "2 -0.297773  1.115910  5.606972  ...   3.505182  11.517463        0.0\n",
              "3  0.699976  1.812492 -0.605144  ...  -0.823739  -0.207942        0.0\n",
              "4 -0.297773 -0.432410  0.100174  ...   0.436123  -0.065739        0.0\n",
              "\n",
              "[5 rows x 19 columns]"
            ]
          },
          "metadata": {
            "tags": []
          },
          "execution_count": 40
        }
      ]
    },
    {
      "cell_type": "code",
      "metadata": {
        "id": "fbIkYxOBqig_",
        "outputId": "8207f55e-6998-4017-9125-9a68b07e3cdf",
        "colab": {
          "base_uri": "https://localhost:8080/",
          "height": 204
        }
      },
      "source": [
        "principal_senescent_dataframe = pd.DataFrame(data = principalComponents_senescent\n",
        "             , columns = ['principal component 1', 'principal component 2'])\n",
        "\n",
        "principal_senescent_dataframe.tail()"
      ],
      "execution_count": null,
      "outputs": [
        {
          "output_type": "execute_result",
          "data": {
            "text/html": [
              "<div>\n",
              "<style scoped>\n",
              "    .dataframe tbody tr th:only-of-type {\n",
              "        vertical-align: middle;\n",
              "    }\n",
              "\n",
              "    .dataframe tbody tr th {\n",
              "        vertical-align: top;\n",
              "    }\n",
              "\n",
              "    .dataframe thead th {\n",
              "        text-align: right;\n",
              "    }\n",
              "</style>\n",
              "<table border=\"1\" class=\"dataframe\">\n",
              "  <thead>\n",
              "    <tr style=\"text-align: right;\">\n",
              "      <th></th>\n",
              "      <th>principal component 1</th>\n",
              "      <th>principal component 2</th>\n",
              "    </tr>\n",
              "  </thead>\n",
              "  <tbody>\n",
              "    <tr>\n",
              "      <th>407</th>\n",
              "      <td>-1.622438</td>\n",
              "      <td>0.362916</td>\n",
              "    </tr>\n",
              "    <tr>\n",
              "      <th>408</th>\n",
              "      <td>2.367491</td>\n",
              "      <td>-0.395433</td>\n",
              "    </tr>\n",
              "    <tr>\n",
              "      <th>409</th>\n",
              "      <td>-1.841277</td>\n",
              "      <td>0.343513</td>\n",
              "    </tr>\n",
              "    <tr>\n",
              "      <th>410</th>\n",
              "      <td>1.841723</td>\n",
              "      <td>-0.393006</td>\n",
              "    </tr>\n",
              "    <tr>\n",
              "      <th>411</th>\n",
              "      <td>-1.718440</td>\n",
              "      <td>0.392112</td>\n",
              "    </tr>\n",
              "  </tbody>\n",
              "</table>\n",
              "</div>"
            ],
            "text/plain": [
              "     principal component 1  principal component 2\n",
              "407              -1.622438               0.362916\n",
              "408               2.367491              -0.395433\n",
              "409              -1.841277               0.343513\n",
              "410               1.841723              -0.393006\n",
              "411              -1.718440               0.392112"
            ]
          },
          "metadata": {
            "tags": []
          },
          "execution_count": 41
        }
      ]
    },
    {
      "cell_type": "code",
      "metadata": {
        "id": "v7LwJ6Ibj1mi",
        "outputId": "f74b9fe8-34bd-4128-afcb-5b739cd8b598",
        "colab": {
          "base_uri": "https://localhost:8080/",
          "height": 204
        }
      },
      "source": [
        "senescent_pca_labelled = principal_senescent_dataframe.join(labels)\n",
        "\n",
        "senescent_pca_labelled.tail()"
      ],
      "execution_count": null,
      "outputs": [
        {
          "output_type": "execute_result",
          "data": {
            "text/html": [
              "<div>\n",
              "<style scoped>\n",
              "    .dataframe tbody tr th:only-of-type {\n",
              "        vertical-align: middle;\n",
              "    }\n",
              "\n",
              "    .dataframe tbody tr th {\n",
              "        vertical-align: top;\n",
              "    }\n",
              "\n",
              "    .dataframe thead th {\n",
              "        text-align: right;\n",
              "    }\n",
              "</style>\n",
              "<table border=\"1\" class=\"dataframe\">\n",
              "  <thead>\n",
              "    <tr style=\"text-align: right;\">\n",
              "      <th></th>\n",
              "      <th>principal component 1</th>\n",
              "      <th>principal component 2</th>\n",
              "      <th>Label</th>\n",
              "      <th>Stain Type</th>\n",
              "      <th>Combined Labels</th>\n",
              "    </tr>\n",
              "  </thead>\n",
              "  <tbody>\n",
              "    <tr>\n",
              "      <th>407</th>\n",
              "      <td>-1.622438</td>\n",
              "      <td>0.362916</td>\n",
              "      <td>Normal</td>\n",
              "      <td>Mito</td>\n",
              "      <td>NormalMito</td>\n",
              "    </tr>\n",
              "    <tr>\n",
              "      <th>408</th>\n",
              "      <td>2.367491</td>\n",
              "      <td>-0.395433</td>\n",
              "      <td>Normal</td>\n",
              "      <td>DNA</td>\n",
              "      <td>NormalDNA</td>\n",
              "    </tr>\n",
              "    <tr>\n",
              "      <th>409</th>\n",
              "      <td>-1.841277</td>\n",
              "      <td>0.343513</td>\n",
              "      <td>Normal</td>\n",
              "      <td>Mito</td>\n",
              "      <td>NormalMito</td>\n",
              "    </tr>\n",
              "    <tr>\n",
              "      <th>410</th>\n",
              "      <td>1.841723</td>\n",
              "      <td>-0.393006</td>\n",
              "      <td>Normal</td>\n",
              "      <td>DNA</td>\n",
              "      <td>NormalDNA</td>\n",
              "    </tr>\n",
              "    <tr>\n",
              "      <th>411</th>\n",
              "      <td>-1.718440</td>\n",
              "      <td>0.392112</td>\n",
              "      <td>Normal</td>\n",
              "      <td>Mito</td>\n",
              "      <td>NormalMito</td>\n",
              "    </tr>\n",
              "  </tbody>\n",
              "</table>\n",
              "</div>"
            ],
            "text/plain": [
              "     principal component 1  principal component 2  ... Stain Type Combined Labels\n",
              "407              -1.622438               0.362916  ...       Mito      NormalMito\n",
              "408               2.367491              -0.395433  ...       DNA       NormalDNA \n",
              "409              -1.841277               0.343513  ...       Mito      NormalMito\n",
              "410               1.841723              -0.393006  ...       DNA       NormalDNA \n",
              "411              -1.718440               0.392112  ...       Mito      NormalMito\n",
              "\n",
              "[5 rows x 5 columns]"
            ]
          },
          "metadata": {
            "tags": []
          },
          "execution_count": 44
        }
      ]
    },
    {
      "cell_type": "code",
      "metadata": {
        "id": "1EodhE9JJTAt"
      },
      "source": [
        "principal_senescent_dataframe.to_csv(r'C:\\Users\\chand\\Desktop\\senescent Principal Components.csv')"
      ],
      "execution_count": null,
      "outputs": []
    },
    {
      "cell_type": "code",
      "metadata": {
        "id": "56Y2wUP_rERs",
        "outputId": "b1e04243-8d91-4577-b738-6236345bff4d",
        "colab": {
          "base_uri": "https://localhost:8080/",
          "height": 34
        }
      },
      "source": [
        "print('Explained variation per principal component: {}'.format(pca_senescent.explained_variance_ratio_))"
      ],
      "execution_count": null,
      "outputs": [
        {
          "output_type": "stream",
          "text": [
            "Explained variation per principal component: [0.47372889 0.12216285]\n"
          ],
          "name": "stdout"
        }
      ]
    },
    {
      "cell_type": "code",
      "metadata": {
        "id": "FydE-ECwrGU_",
        "outputId": "83903430-adf6-418e-f039-7fcd00db1ec2",
        "colab": {
          "base_uri": "https://localhost:8080/",
          "height": 673
        }
      },
      "source": [
        "import matplotlib.pyplot as plt\n",
        "\n",
        "plt.figure()\n",
        "plt.figure(figsize=(10,10))\n",
        "plt.xticks(fontsize=12)\n",
        "plt.yticks(fontsize=14)\n",
        "plt.xlabel('Principal Component 1',fontsize=20)\n",
        "plt.ylabel('Principal Component 2',fontsize=20)\n",
        "plt.title(\"Senescent vs Mitochondrial Mitochondria and Nuclei Comparison\",fontsize=20)\n",
        "targets = ['NormalDNA ', 'NormalMito', 'SenescentDNA ', \"SenescentMito\"]\n",
        "colors = ['b', 'g', 'r', 'y']\n",
        "for target, color in zip(targets,colors):\n",
        "    indicesToKeep = senescent_pca_labelled['Combined Labels'] == target\n",
        "    plt.scatter(senescent_pca_labelled.loc[indicesToKeep, 'principal component 1'], senescent_pca_labelled.loc[indicesToKeep, 'principal component 2'], c = color, s = 50)\n",
        "\n",
        "plt.legend(targets,prop={'size': 15})"
      ],
      "execution_count": null,
      "outputs": [
        {
          "output_type": "execute_result",
          "data": {
            "text/plain": [
              "<matplotlib.legend.Legend at 0x7f2f2637e630>"
            ]
          },
          "metadata": {
            "tags": []
          },
          "execution_count": 50
        },
        {
          "output_type": "display_data",
          "data": {
            "text/plain": [
              "<Figure size 432x288 with 0 Axes>"
            ]
          },
          "metadata": {
            "tags": []
          }
        },
        {
          "output_type": "display_data",
          "data": {
            "image/png": "[encoded data removed]",
            "text/plain": [
              "<Figure size 720x720 with 1 Axes>"
            ]
          },
          "metadata": {
            "tags": [],
            "needs_background": "light"
          }
        }
      ]
    },
    {
      "cell_type": "code",
      "metadata": {
        "id": "jtVf4qGAKKcx",
        "outputId": "31026cd2-4e04-4ec4-eb6e-ed25d843d390",
        "colab": {
          "base_uri": "https://localhost:8080/",
          "height": 244
        }
      },
      "source": [
        "import matplotlib.pyplot as plt\n",
        "plt.matshow(pca_senescent.components_, cmap = 'viridis')\n",
        "plt.yticks([0, 1, 2], ['Principal Component 1', 'Principal Component 2'], fontsize = 10)\n",
        "plt.colorbar()\n",
        "plt.xticks(range(len(feat_cols)), feat_cols, rotation = 65, ha='left')\n",
        "plt.tight_layout()\n",
        "plt.show()"
      ],
      "execution_count": null,
      "outputs": [
        {
          "output_type": "stream",
          "text": [
            "/usr/local/lib/python3.6/dist-packages/ipykernel_launcher.py:6: UserWarning: This figure includes Axes that are not compatible with tight_layout, so results might be incorrect.\n",
            "  \n"
          ],
          "name": "stderr"
        },
        {
          "output_type": "display_data",
          "data": {
            "image/png": "[encoded data removed]",
            "text/plain": [
              "<Figure size 1152x144 with 2 Axes>"
            ]
          },
          "metadata": {
            "tags": [],
            "needs_background": "light"
          }
        }
      ]
    }
  ]
}